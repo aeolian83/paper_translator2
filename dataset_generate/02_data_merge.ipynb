{
 "cells": [
  {
   "cell_type": "code",
   "execution_count": null,
   "metadata": {},
   "outputs": [
    {
     "name": "stderr",
     "output_type": "stream",
     "text": [
      "Note: Environment variable`HF_TOKEN` is set and is the current active token independently from the token you've just configured.\n"
     ]
    }
   ],
   "source": [
    "import os\n",
    "import json\n",
    "import pandas as pd\n",
    "import numpy as np\n",
    "from typing import List\n",
    "\n",
    "from huggingface_hub import login\n",
    "from transformers import AutoTokenizer\n",
    "import datasets\n",
    "from datasets import load_dataset, Dataset, DatasetDict, concatenate_datasets, load_from_disk\n",
    "from dotenv import load_dotenv\n",
    "\n",
    "load_dotenv()\n",
    "\n",
    "\n",
    "login(token= os.environ[\"HF_TOKEN\"])\n",
    "\n",
    "# 캐시 디렉토리 설정\n",
    "DATA_CACHE_DIR = \"/mnt/t7/.cache/huggingface/datasets\"\n",
    "MODEL_CACHE_DIR = \"/mnt/t7/.cache/huggingface/models\""
   ]
  },
  {
   "cell_type": "code",
   "execution_count": 3,
   "metadata": {},
   "outputs": [
    {
     "data": {
      "application/vnd.jupyter.widget-view+json": {
       "model_id": "7f81c3e34d1a45bdbea653dcf2dc7036",
       "version_major": 2,
       "version_minor": 0
      },
      "text/plain": [
       "README.md:   0%|          | 0.00/3.55k [00:00<?, ?B/s]"
      ]
     },
     "metadata": {},
     "output_type": "display_data"
    },
    {
     "data": {
      "application/vnd.jupyter.widget-view+json": {
       "model_id": "23066dd7972c431da3cab42bdf293009",
       "version_major": 2,
       "version_minor": 0
      },
      "text/plain": [
       "PTT_advanced.json:   0%|          | 0.00/2.41M [00:00<?, ?B/s]"
      ]
     },
     "metadata": {},
     "output_type": "display_data"
    },
    {
     "data": {
      "application/vnd.jupyter.widget-view+json": {
       "model_id": "758970a4a3094837b6899f9c3c5b73da",
       "version_major": 2,
       "version_minor": 0
      },
      "text/plain": [
       "Generating train split:   0%|          | 0/1063 [00:00<?, ? examples/s]"
      ]
     },
     "metadata": {},
     "output_type": "display_data"
    }
   ],
   "source": [
    "dataset_name = \"PrompTartLAB/PTT_advanced_en_ko\"\n",
    "\n",
    "ds = load_dataset(dataset_name, cache_dir=DATA_CACHE_DIR)"
   ]
  },
  {
   "cell_type": "code",
   "execution_count": 5,
   "metadata": {},
   "outputs": [
    {
     "data": {
      "text/plain": [
       "Dataset({\n",
       "    features: ['term', 'english', 'korean'],\n",
       "    num_rows: 1063\n",
       "})"
      ]
     },
     "execution_count": 5,
     "metadata": {},
     "output_type": "execute_result"
    }
   ],
   "source": [
    "ds[\"train\"]"
   ]
  },
  {
   "cell_type": "code",
   "execution_count": 8,
   "metadata": {},
   "outputs": [
    {
     "data": {
      "text/plain": [
       "{'term': 'neural task-driven modeling',\n",
       " 'english': 'Neural task-driven modeling plays a crucial role in understanding complex events (CEs) from sensor data, enabling robots and autonomous systems to interact effectively with their environments and humans. Recent advancements in neuro-symbolic methods, which combine neural task-driven modeling with symbolic reasoning, have demonstrated superior performance in complex event detection (CED) by leveraging human knowledge and reducing the need for extensive data. Our research highlights the significant potential of neuro-symbolic architectures over traditional neural task-driven models, particularly in recognizing CE patterns from multimodal data streams with improved temporal reasoning capabilities.',\n",
       " 'korean': '신경 과제 주도 모델링(neural task-driven modeling)은 센서 데이터로부터 복잡한 사건(CEs)을 이해하는 데 중요한 역할을 하며, 로봇과 자율 시스템이 환경 및 인간과 효과적으로 상호작용할 수 있도록 합니다. 신경 과제 주도 모델링(neural task-driven modeling)과 상징적 추론을 결합한 신경-상징적 방법의 최근 발전은 인간의 지식을 활용하고 광범위한 데이터의 필요성을 줄임으로써 복잡한 사건 탐지(CED)에서 우수한 성능을 입증했습니다. 우리의 연구는 특히 향상된 시간적 추론 능력을 갖춘 다중 모달 데이터 스트림에서 CE 패턴을 인식하는 데 있어 전통적인 신경 과제 주도 모델링(neural task-driven modeling)보다 신경-상징적 아키텍처의 상당한 잠재력을 강조합니다.'}"
      ]
     },
     "execution_count": 8,
     "metadata": {},
     "output_type": "execute_result"
    }
   ],
   "source": [
    "ds[\"train\"][1062]"
   ]
  },
  {
   "cell_type": "code",
   "execution_count": 11,
   "metadata": {},
   "outputs": [],
   "source": [
    "jason_filepath = \"/mnt/t7/dnn/llm_practicing/06_synthetic_data/00_PTT_with_Latex/dataset_new_turn_1/dataset_new_turn_1_1.json\"\n",
    "\n",
    "with open(jason_filepath, \"r\") as f:\n",
    "    data = json.load(f)"
   ]
  },
  {
   "cell_type": "code",
   "execution_count": 15,
   "metadata": {},
   "outputs": [],
   "source": [
    "filtered_rows = [\n",
    "    {\n",
    "        \"term\": row[\"term\"],\n",
    "        \"english\": row[\"english\"],\n",
    "        \"korean\": row[\"korean\"]\n",
    "    }\n",
    "    for row in data\n",
    "    if \"term\" in row and \"english\" in row and \"korean\" in row\n",
    "]"
   ]
  },
  {
   "cell_type": "code",
   "execution_count": 22,
   "metadata": {},
   "outputs": [],
   "source": [
    "# 4. 새 데이터셋 객체로 변환\n",
    "new_ds = Dataset.from_list(filtered_rows)\n",
    "\n",
    "# 5. 기존 train 데이터셋과 병합 (concat)\n",
    "updated_train = concatenate_datasets([ds[\"train\"], new_ds])"
   ]
  },
  {
   "cell_type": "code",
   "execution_count": 23,
   "metadata": {},
   "outputs": [],
   "source": [
    "# 6. 다시 DatasetDict로 포장\n",
    "dataset = DatasetDict({\"train\": updated_train})"
   ]
  },
  {
   "cell_type": "code",
   "execution_count": 24,
   "metadata": {},
   "outputs": [
    {
     "data": {
      "application/vnd.jupyter.widget-view+json": {
       "model_id": "bb866ba2896340049184ba239e242ac2",
       "version_major": 2,
       "version_minor": 0
      },
      "text/plain": [
       "Uploading the dataset shards:   0%|          | 0/1 [00:00<?, ?it/s]"
      ]
     },
     "metadata": {},
     "output_type": "display_data"
    },
    {
     "data": {
      "application/vnd.jupyter.widget-view+json": {
       "model_id": "96b8fe3d35744e91b929e51c7e74e3fd",
       "version_major": 2,
       "version_minor": 0
      },
      "text/plain": [
       "Creating parquet from Arrow format:   0%|          | 0/2 [00:00<?, ?ba/s]"
      ]
     },
     "metadata": {},
     "output_type": "display_data"
    },
    {
     "data": {
      "text/plain": [
       "CommitInfo(commit_url='https://huggingface.co/datasets/aeolian83/PTT_wit_Latex_1/commit/c0a20c5a53382aa9dcd9f5bae24dd9698720be44', commit_message='Upload dataset', commit_description='', oid='c0a20c5a53382aa9dcd9f5bae24dd9698720be44', pr_url=None, repo_url=RepoUrl('https://huggingface.co/datasets/aeolian83/PTT_wit_Latex_1', endpoint='https://huggingface.co', repo_type='dataset', repo_id='aeolian83/PTT_wit_Latex_1'), pr_revision=None, pr_num=None)"
      ]
     },
     "execution_count": 24,
     "metadata": {},
     "output_type": "execute_result"
    }
   ],
   "source": [
    "repo_name = \"aeolian83/PTT_with_Latex_1\"\n",
    "dataset.push_to_hub(repo_name, private=False)"
   ]
  },
  {
   "cell_type": "code",
   "execution_count": 25,
   "metadata": {},
   "outputs": [
    {
     "data": {
      "text/plain": [
       "{'term': 'neural task-driven modeling',\n",
       " 'english': 'Neural task-driven modeling plays a crucial role in understanding complex events (CEs) from sensor data, enabling robots and autonomous systems to interact effectively with their environments and humans. Recent advancements in neuro-symbolic methods, which combine neural task-driven modeling with symbolic reasoning, have demonstrated superior performance in complex event detection (CED) by leveraging human knowledge and reducing the need for extensive data. Our research highlights the significant potential of neuro-symbolic architectures over traditional neural task-driven models, particularly in recognizing CE patterns from multimodal data streams with improved temporal reasoning capabilities.',\n",
       " 'korean': '신경 과제 주도 모델링(neural task-driven modeling)은 센서 데이터로부터 복잡한 사건(CEs)을 이해하는 데 중요한 역할을 하며, 로봇과 자율 시스템이 환경 및 인간과 효과적으로 상호작용할 수 있도록 합니다. 신경 과제 주도 모델링(neural task-driven modeling)과 상징적 추론을 결합한 신경-상징적 방법의 최근 발전은 인간의 지식을 활용하고 광범위한 데이터의 필요성을 줄임으로써 복잡한 사건 탐지(CED)에서 우수한 성능을 입증했습니다. 우리의 연구는 특히 향상된 시간적 추론 능력을 갖춘 다중 모달 데이터 스트림에서 CE 패턴을 인식하는 데 있어 전통적인 신경 과제 주도 모델링(neural task-driven modeling)보다 신경-상징적 아키텍처의 상당한 잠재력을 강조합니다.'}"
      ]
     },
     "execution_count": 25,
     "metadata": {},
     "output_type": "execute_result"
    }
   ],
   "source": [
    "dataset[\"train\"][1062]"
   ]
  },
  {
   "cell_type": "code",
   "execution_count": 26,
   "metadata": {},
   "outputs": [
    {
     "data": {
      "text/plain": [
       "{'term': 'adaptive neural networks',\n",
       " 'english': 'The development of adaptive neural networks has demonstrated significant potential in addressing the exponential complexity associated with cyclic scheduling in real-world applications. By employing a neural network approach to model manufacturing as a cyclic job shop problem, the study effectively minimized the cycle time of a schedule, showcasing the flexibility and adaptability of the system to integrate with other techniques. Notably, the experimental results validated the approach, confirming the hypothesis that adaptive neural networks can efficiently optimize the scheduling process, particularly when minimizing the cycle time, \\\\( T_{\\\\text{cycle}} \\\\), is critical.',\n",
       " 'korean': '적응형 신경망(adaptive neural networks)의 개발은 실제 응용에서 순환 일정의 지수적 복잡성을 해결하는 데 상당한 잠재력을 보여주었습니다. 제조를 순환 작업장 문제로 모델링하기 위해 신경망 접근 방식을 사용함으로써 연구는 일정의 주기 시간을 효과적으로 최소화하였으며, 시스템이 다른 기법과 통합될 수 있는 유연성과 적응성을 입증했습니다. 특히, 실험 결과는 이 접근 방식을 검증하여 적응형 신경망(adaptive neural networks)이 일정 프로세스를 효율적으로 최적화할 수 있다는 가설을 확인했으며, 특히 주기 시간(\\\\( T_{\\\\text{cycle}} \\\\))을 최소화하는 것이 중요한 경우에 유용함을 보여주었습니다.'}"
      ]
     },
     "execution_count": 26,
     "metadata": {},
     "output_type": "execute_result"
    }
   ],
   "source": [
    "dataset[\"train\"][1063]"
   ]
  },
  {
   "cell_type": "code",
   "execution_count": null,
   "metadata": {},
   "outputs": [],
   "source": []
  },
  {
   "cell_type": "code",
   "execution_count": null,
   "metadata": {},
   "outputs": [],
   "source": []
  },
  {
   "cell_type": "code",
   "execution_count": null,
   "metadata": {},
   "outputs": [],
   "source": []
  },
  {
   "cell_type": "code",
   "execution_count": null,
   "metadata": {},
   "outputs": [],
   "source": []
  },
  {
   "cell_type": "code",
   "execution_count": null,
   "metadata": {},
   "outputs": [],
   "source": []
  }
 ],
 "metadata": {
  "kernelspec": {
   "display_name": "llm_for_p312",
   "language": "python",
   "name": "python3"
  },
  "language_info": {
   "codemirror_mode": {
    "name": "ipython",
    "version": 3
   },
   "file_extension": ".py",
   "mimetype": "text/x-python",
   "name": "python",
   "nbconvert_exporter": "python",
   "pygments_lexer": "ipython3",
   "version": "3.12.3"
  }
 },
 "nbformat": 4,
 "nbformat_minor": 2
}
